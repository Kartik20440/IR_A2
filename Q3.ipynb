{
 "cells": [
  {
   "cell_type": "code",
   "execution_count": 36,
   "metadata": {},
   "outputs": [
    {
     "data": {
      "text/plain": [
       "'c:\\\\Users\\\\karti\\\\OneDrive\\\\Desktop\\\\IR\\\\CSE508_Winter2023_A2_4'"
      ]
     },
     "execution_count": 36,
     "metadata": {},
     "output_type": "execute_result"
    }
   ],
   "source": [
    "import pandas as pd\n",
    "import regex as re\n",
    "import json\n",
    "import os\n",
    "from math import log2\n",
    "\n",
    "os.getcwd()"
   ]
  },
  {
   "cell_type": "code",
   "execution_count": 33,
   "metadata": {},
   "outputs": [],
   "source": [
    "# data = pd.read_csv('Q3_dataset.txt')\n",
    "# data = pd.read_csv('Q3_dataset.txt', sep='\\t', header=None)"
   ]
  },
  {
   "cell_type": "code",
   "execution_count": 34,
   "metadata": {},
   "outputs": [],
   "source": [
    "# take only the rows that contain 'qid:4' use regular expression\n",
    "# data = data[data[0].str.contains('qid:4 ')]"
   ]
  },
  {
   "cell_type": "code",
   "execution_count": 37,
   "metadata": {},
   "outputs": [],
   "source": [
    "# store data of concern in  a new text file\n",
    "data = pd.read_csv('Q3_dataset_new.txt', sep='\\t', header=None)\n",
    "data.to_csv('Q3_data.csv', sep=' ', header=None, index=False)\n",
    "data = pd.read_csv('Q3_data.csv', sep=' ', header=None)\n",
    "# print(data.head)\n",
    "# row of data is in form 0 qid:4 1:2345 2:7422 3:425345 make a dictionary of the data in format {score:0, 1:2345, 2:7422, 3:425345} ignoring qid:4 in every row\n",
    "data_dict = {}\n",
    "for i in range(len(data)):\n",
    "    row = data.iloc[i][0]\n",
    "    row = row.split(' ')\n",
    "    # print(row)\n",
    "    data_dict[i] = {}\n",
    "    data_dict[i]['score'] = row[0]\n",
    "    # print(len(row))\n",
    "    for j in range(1, len(row)-1):\n",
    "        row[j] = row[j].split(':')\n",
    "        data_dict[i][row[j][0]] = row[j][1]\n",
    "# print(data_dict)\n",
    "\n",
    "# write the dictionary to a json file\n",
    "with open('Q3_data.json', 'w') as f:\n",
    "    json.dump(data_dict, f, indent = 4)\n"
   ]
  },
  {
   "cell_type": "code",
   "execution_count": 39,
   "metadata": {},
   "outputs": [
    {
     "ename": "AttributeError",
     "evalue": "'list' object has no attribute 'values'",
     "output_type": "error",
     "traceback": [
      "\u001b[1;31m---------------------------------------------------------------------------\u001b[0m",
      "\u001b[1;31mAttributeError\u001b[0m                            Traceback (most recent call last)",
      "\u001b[1;32mc:\\Users\\karti\\OneDrive\\Desktop\\IR\\CSE508_Winter2023_A2_4\\Q3.ipynb Cell 5\u001b[0m in \u001b[0;36m<cell line: 4>\u001b[1;34m()\u001b[0m\n\u001b[0;32m      <a href='vscode-notebook-cell:/c%3A/Users/karti/OneDrive/Desktop/IR/CSE508_Winter2023_A2_4/Q3.ipynb#W4sZmlsZQ%3D%3D?line=0'>1</a>\u001b[0m \u001b[39m# Calculating DCG\u001b[39;00m\n\u001b[0;32m      <a href='vscode-notebook-cell:/c%3A/Users/karti/OneDrive/Desktop/IR/CSE508_Winter2023_A2_4/Q3.ipynb#W4sZmlsZQ%3D%3D?line=1'>2</a>\u001b[0m \n\u001b[0;32m      <a href='vscode-notebook-cell:/c%3A/Users/karti/OneDrive/Desktop/IR/CSE508_Winter2023_A2_4/Q3.ipynb#W4sZmlsZQ%3D%3D?line=2'>3</a>\u001b[0m \u001b[39m# sort the data dict by score in descending order\u001b[39;00m\n\u001b[1;32m----> <a href='vscode-notebook-cell:/c%3A/Users/karti/OneDrive/Desktop/IR/CSE508_Winter2023_A2_4/Q3.ipynb#W4sZmlsZQ%3D%3D?line=3'>4</a>\u001b[0m data_dict \u001b[39m=\u001b[39m \u001b[39msorted\u001b[39m(data_dict\u001b[39m.\u001b[39;49mvalues(), key\u001b[39m=\u001b[39m\u001b[39mlambda\u001b[39;00m x: x[\u001b[39m'\u001b[39m\u001b[39mscore\u001b[39m\u001b[39m'\u001b[39m], reverse\u001b[39m=\u001b[39m\u001b[39mTrue\u001b[39;00m)\n\u001b[0;32m      <a href='vscode-notebook-cell:/c%3A/Users/karti/OneDrive/Desktop/IR/CSE508_Winter2023_A2_4/Q3.ipynb#W4sZmlsZQ%3D%3D?line=5'>6</a>\u001b[0m \u001b[39m# calculate DCG using the score and store the DCG in a new column in the data dictionary\u001b[39;00m\n\u001b[0;32m      <a href='vscode-notebook-cell:/c%3A/Users/karti/OneDrive/Desktop/IR/CSE508_Winter2023_A2_4/Q3.ipynb#W4sZmlsZQ%3D%3D?line=6'>7</a>\u001b[0m \u001b[39mfor\u001b[39;00m i \u001b[39min\u001b[39;00m \u001b[39mrange\u001b[39m(\u001b[39mlen\u001b[39m(data_dict)):\n",
      "\u001b[1;31mAttributeError\u001b[0m: 'list' object has no attribute 'values'"
     ]
    }
   ],
   "source": [
    "# Calculating DCG\n",
    "\n",
    "# sort the data dict by score in descending order\n",
    "data_dict = sorted(data_dict.values(), key=lambda x: x['score'], reverse=True)\n",
    "\n",
    "# calculate DCG using the score and store the DCG in a new column in the data dictionary\n",
    "for i in range(len(data_dict)):\n",
    "    dcg = float(data_dict[0]['score'])\n",
    "    for j in range(1,len(data_dict[i])-1):\n",
    "        dcg += (float(data_dict[i]['score']))/(log2(j+1))\n",
    "    data_dict[i]['dcg'] = dcg\n",
    "\n",
    "# print dcg from data dictionary\n",
    "# print(\"DCG Values are:\")\n",
    "# for i in range(len(data_dict)):\n",
    "#     print(data_dict[i]['dcg'])\n",
    "\n",
    "# Store the data dict in a new json file in decreasing order of DCG\n",
    "with open('Q3_DCG.json', 'w') as f:\n",
    "    json.dump(data_dict, f, indent = 4)\n",
    "\n",
    "# Calculate the number of files that could be made\n"
   ]
  }
 ],
 "metadata": {
  "kernelspec": {
   "display_name": "Python 3 (ipykernel)",
   "language": "python",
   "name": "python3"
  },
  "language_info": {
   "codemirror_mode": {
    "name": "ipython",
    "version": 3
   },
   "file_extension": ".py",
   "mimetype": "text/x-python",
   "name": "python",
   "nbconvert_exporter": "python",
   "pygments_lexer": "ipython3",
   "version": "3.10.1"
  },
  "orig_nbformat": 4
 },
 "nbformat": 4,
 "nbformat_minor": 2
}
