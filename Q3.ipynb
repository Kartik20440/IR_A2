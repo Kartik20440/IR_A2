{
 "cells": [
  {
   "cell_type": "code",
   "execution_count": 10,
   "metadata": {},
   "outputs": [],
   "source": [
    "import pandas as pd\n",
    "import json\n",
    "from math import log2\n",
    "from math import factorial\n",
    "from matplotlib import pyplot as plt"
   ]
  },
  {
   "cell_type": "code",
   "execution_count": 13,
   "metadata": {},
   "outputs": [],
   "source": [
    "# storing data of concern in  a new text file\n",
    "data = pd.read_csv('Q3_dataset_new.txt', sep='\\t', header=None)\n",
    "data.to_csv('Q3_data.csv', sep=' ', header=None, index=False)\n",
    "data = pd.read_csv('Q3_data.csv', sep=' ', header=None)\n",
    "# print(data.head)\n",
    "\n",
    "data_dict = {}\n",
    "for i in range(len(data)):\n",
    "    row = data.iloc[i][0]\n",
    "    row = row.split(' ')\n",
    "    # print(row)\n",
    "    data_dict[i] = {}\n",
    "    data_dict[i]['score'] = row[0]\n",
    "    # print(len(row))\n",
    "    for j in range(1, len(row)-1):\n",
    "        row[j] = row[j].split(':')\n",
    "        data_dict[i][row[j][0]] = row[j][1]\n",
    "# print(data_dict)\n",
    "\n",
    "# writing the dictionary to a json file\n",
    "with open('Q3_data.json', 'w') as f:\n",
    "    json.dump(data_dict, f, indent = 4)\n"
   ]
  },
  {
   "cell_type": "code",
   "execution_count": 14,
   "metadata": {},
   "outputs": [],
   "source": [
    "# Calculating DCG\n",
    "\n",
    "data_dict_copy = data_dict.copy()\n",
    "\n",
    "# sorting the data dict by score in descending order\n",
    "data_dict = sorted(data_dict.values(), key=lambda x: x['score'], reverse=True)\n",
    "\n",
    "# calculating DCG using the score and storing the DCG in a new column in the data dictionary\n",
    "for i in range(len(data_dict)):\n",
    "    dcg = float(data_dict[0]['score'])\n",
    "    for j in range(1,len(data_dict[i])-1):\n",
    "        dcg += (float(data_dict[i]['score']))/(log2(j+1))\n",
    "    data_dict[i]['dcg'] = dcg\n",
    "\n",
    "# print dcg from data dictionary\n",
    "# print(\"DCG Values are:\")\n",
    "# for i in range(len(data_dict)):\n",
    "#     print(data_dict[i]['dcg'])\n",
    "\n",
    "# Storing the data dict in a new json file in decreasing order of DCG\n",
    "with open('Q3_DCG.json', 'w') as f:\n",
    "    json.dump(data_dict, f, indent = 4)\n",
    "\n",
    "# calculating the number of zeroes, ones, twos and threes in score column of data_dict\n",
    "zeroes = 0\n",
    "ones = 0\n",
    "twos = 0\n",
    "threes = 0\n",
    "fours = 0\n",
    "for i in range(len(data_dict)):\n",
    "    if data_dict[i]['score'] == '0':\n",
    "        zeroes += 1\n",
    "    elif data_dict[i]['score'] == '1':\n",
    "        ones += 1\n",
    "    elif data_dict[i]['score'] == '2':\n",
    "        twos += 1\n",
    "    elif data_dict[i]['score'] == '3':\n",
    "        threes += 1\n",
    "    elif data_dict[i]['score'] == '4':\n",
    "        fours += 1\n",
    "\n",
    "# print(zeroes, ones, twos, threes, fours)\n",
    "# print(zeroes+ones+twos+threes+fours)\n",
    "# print(len(data_dict))\n",
    "\n",
    "# calculate the number of files that can be made\n",
    "files = factorial(zeroes)*factorial(ones)*factorial(twos)*factorial(threes)*factorial(fours)\n"
   ]
  },
  {
   "cell_type": "code",
   "execution_count": 15,
   "metadata": {},
   "outputs": [
    {
     "name": "stdout",
     "output_type": "stream",
     "text": [
      "Number of files that can be made are:  19893497375938370599826047614905329896936840170566570588205180312704857992695193482412686565431050240000000000000000000000\n"
     ]
    }
   ],
   "source": [
    "print(\"Number of files that can be made are: \", files)"
   ]
  },
  {
   "cell_type": "code",
   "execution_count": 16,
   "metadata": {},
   "outputs": [],
   "source": [
    "# Calculating nDCG using IDCG\n",
    "\n",
    "# calculating IDCG using the score and storing the IDCG in a new column in the data dictionary\n",
    "for i in range(len(data_dict)):\n",
    "    idcg = float(data_dict[0]['score'])\n",
    "    for j in range(1,len(data_dict[i])-1):\n",
    "        idcg += (float(data_dict[0]['score']))/(log2(j+1))\n",
    "    data_dict[i]['idcg'] = idcg\n",
    "\n",
    "# printing idcg from data dictionary\n",
    "# print(\"IDCG Values are:\")\n",
    "# for i in range(len(data_dict)):\n",
    "#     print(data_dict[i]['idcg'])\n",
    "\n",
    "# calculating NDCG using the score and storing the NDCG in a new column in the data dictionary\n",
    "for i in range(len(data_dict)):\n",
    "    ndcg = data_dict[i]['dcg']/data_dict[i]['idcg']\n",
    "    data_dict[i]['ndcg'] = ndcg\n",
    "\n",
    "# printing ndcg from data dictionary\n",
    "# print(\"NDCG Values are:\")\n",
    "# for i in range(len(data_dict)):\n",
    "#     print(data_dict[i]['ndcg'])\n",
    "\n",
    "# Storing the data_dict in a new json file in decreasing order of NDCG\n",
    "with open('Q3_NDCG.json', 'w') as f:\n",
    "    json.dump(data_dict, f, indent = 4)"
   ]
  },
  {
   "cell_type": "code",
   "execution_count": 28,
   "metadata": {},
   "outputs": [
    {
     "name": "stdout",
     "output_type": "stream",
     "text": [
      "nDCG at position 50:  0.3521042740324887\n"
     ]
    }
   ],
   "source": [
    "# Calculating nDCG at 50\n",
    "\n",
    "ndcg50 = float(data_dict_copy[0]['score'])\n",
    "max_ndcg50 = float(data_dict[0]['score'])\n",
    "# print(ndcg50)\n",
    "# print(max_ndcg50)\n",
    "for i in range(1, 51):\n",
    "    temp1 = (float(data_dict_copy[i]['score'])/log2(i+1))\n",
    "    ndcg50 = ndcg50 + temp1\n",
    "    temp2 = (float(data_dict[i]['score'])/log2(i+1))\n",
    "    max_ndcg50 = max_ndcg50 + temp2\n",
    "\n",
    "ndcg_50 = ndcg50/max_ndcg50\n",
    "print(\"nDCG at position 50: \", ndcg_50)"
   ]
  },
  {
   "cell_type": "code",
   "execution_count": 18,
   "metadata": {},
   "outputs": [
    {
     "data": {
      "image/png": "[encoded data removed]",
      "text/plain": [
       "<Figure size 432x288 with 1 Axes>"
      ]
     },
     "metadata": {
      "needs_background": "light"
     },
     "output_type": "display_data"
    }
   ],
   "source": [
    "# Plotting a Precision-Recall curve for the query \"qid:4\" using feature 75\n",
    "\n",
    "qid=[]\n",
    "total = 0\n",
    "for i in range(len(data_dict)):\n",
    "    qid.append([int(data_dict[i]['score']), float(data_dict[i]['75'])])\n",
    "    if(data_dict[i]['score'] > '0'):\n",
    "        total += 1\n",
    "# print(qid)\n",
    "\n",
    "qid = sorted(qid,key=lambda x:x[1], reverse=True)\n",
    "# print(qid)\n",
    "\n",
    "precision_list = []\n",
    "recall_list = []\n",
    "cnt = 1\n",
    "classified = 0\n",
    "\n",
    "for ind in [data[0] for data in qid]:\n",
    "    prec = classified/cnt\n",
    "    reca = classified/total\n",
    "    precision_list.append(prec)\n",
    "    recall_list.append(reca)\n",
    "    if ind > 0:\n",
    "        classified += 1\n",
    "    cnt = cnt+1\n",
    "\n",
    "plt.title('Precision-Recall Curve for qid:4')\n",
    "plt.xlabel('Precision')\n",
    "plt.ylabel('Recall')\n",
    "plt.plot(recall_list, precision_list, 'g')\n",
    "plt.show()"
   ]
  }
 ],
 "metadata": {
  "kernelspec": {
   "display_name": "Python 3 (ipykernel)",
   "language": "python",
   "name": "python3"
  },
  "language_info": {
   "codemirror_mode": {
    "name": "ipython",
    "version": 3
   },
   "file_extension": ".py",
   "mimetype": "text/x-python",
   "name": "python",
   "nbconvert_exporter": "python",
   "pygments_lexer": "ipython3",
   "version": "3.10.1"
  },
  "orig_nbformat": 4
 },
 "nbformat": 4,
 "nbformat_minor": 2
}
