{
 "cells": [
  {
   "cell_type": "code",
   "execution_count": 21,
   "metadata": {},
   "outputs": [],
   "source": [
    "import pandas as pd\n",
    "import regex as re\n",
    "import json\n",
    "import os\n",
    "from math import log2\n",
    "from math import factorial\n",
    "\n",
    "# os.getcwd()"
   ]
  },
  {
   "cell_type": "code",
   "execution_count": 22,
   "metadata": {},
   "outputs": [],
   "source": [
    "# data = pd.read_csv('Q3_dataset.txt')\n",
    "# data = pd.read_csv('Q3_dataset.txt', sep='\\t', header=None)"
   ]
  },
  {
   "cell_type": "code",
   "execution_count": 23,
   "metadata": {},
   "outputs": [],
   "source": [
    "# take only the rows that contain 'qid:4'\n",
    "# data = data[data[0].str.contains('qid:4 ')]"
   ]
  },
  {
   "cell_type": "code",
   "execution_count": 24,
   "metadata": {},
   "outputs": [],
   "source": [
    "# store data of concern in  a new text file\n",
    "data = pd.read_csv('Q3_dataset_new.txt', sep='\\t', header=None)\n",
    "data.to_csv('Q3_data.csv', sep=' ', header=None, index=False)\n",
    "data = pd.read_csv('Q3_data.csv', sep=' ', header=None)\n",
    "# print(data.head)\n",
    "# row of data is in form 0 qid:4 1:2345 2:7422 3:425345 make a dictionary of the data in format {score:0, 1:2345, 2:7422, 3:425345} ignoring qid:4 in every row\n",
    "data_dict = {}\n",
    "for i in range(len(data)):\n",
    "    row = data.iloc[i][0]\n",
    "    row = row.split(' ')\n",
    "    # print(row)\n",
    "    data_dict[i] = {}\n",
    "    data_dict[i]['score'] = row[0]\n",
    "    # print(len(row))\n",
    "    for j in range(1, len(row)-1):\n",
    "        row[j] = row[j].split(':')\n",
    "        data_dict[i][row[j][0]] = row[j][1]\n",
    "# print(data_dict)\n",
    "\n",
    "# write the dictionary to a json file\n",
    "with open('Q3_data.json', 'w') as f:\n",
    "    json.dump(data_dict, f, indent = 4)\n"
   ]
  },
  {
   "cell_type": "code",
   "execution_count": 25,
   "metadata": {},
   "outputs": [],
   "source": [
    "# Calculating DCG\n",
    "\n",
    "# sort the data dict by score in descending order\n",
    "data_dict = sorted(data_dict.values(), key=lambda x: x['score'], reverse=True)\n",
    "\n",
    "# calculate DCG using the score and store the DCG in a new column in the data dictionary\n",
    "for i in range(len(data_dict)):\n",
    "    dcg = float(data_dict[0]['score'])\n",
    "    for j in range(1,len(data_dict[i])-1):\n",
    "        dcg += (float(data_dict[i]['score']))/(log2(j+1))\n",
    "    data_dict[i]['dcg'] = dcg\n",
    "\n",
    "# print dcg from data dictionary\n",
    "# print(\"DCG Values are:\")\n",
    "# for i in range(len(data_dict)):\n",
    "#     print(data_dict[i]['dcg'])\n",
    "\n",
    "# Store the data dict in a new json file in decreasing order of DCG\n",
    "with open('Q3_DCG.json', 'w') as f:\n",
    "    json.dump(data_dict, f, indent = 4)\n",
    "\n",
    "# calculate the number of zeroes in score columnof data_dict\n",
    "zeroes = 0\n",
    "ones = 0\n",
    "twos = 0\n",
    "threes = 0\n",
    "fours = 0\n",
    "for i in range(len(data_dict)):\n",
    "    if data_dict[i]['score'] == '0':\n",
    "        zeroes += 1\n",
    "    elif data_dict[i]['score'] == '1':\n",
    "        ones += 1\n",
    "    elif data_dict[i]['score'] == '2':\n",
    "        twos += 1\n",
    "    elif data_dict[i]['score'] == '3':\n",
    "        threes += 1\n",
    "    elif data_dict[i]['score'] == '4':\n",
    "        fours += 1\n",
    "\n",
    "# print(zeroes, ones, twos, threes, fours)\n",
    "# print(zeroes+ones+twos+threes+fours)\n",
    "# print(len(data_dict))\n",
    "\n",
    "# calculate the number of files that can be made\n",
    "files = factorial(zeroes)*factorial(ones)*factorial(twos)*factorial(threes)*factorial(fours)\n"
   ]
  },
  {
   "cell_type": "code",
   "execution_count": 26,
   "metadata": {},
   "outputs": [
    {
     "name": "stdout",
     "output_type": "stream",
     "text": [
      "Number of files that can be made are:  19893497375938370599826047614905329896936840170566570588205180312704857992695193482412686565431050240000000000000000000000\n"
     ]
    }
   ],
   "source": [
    "print(\"Number of files that can be made are: \", files)"
   ]
  },
  {
   "cell_type": "code",
   "execution_count": 32,
   "metadata": {},
   "outputs": [],
   "source": [
    "# calculate IDCG using the score and store the IDCG in a new column in the data dictionary\n",
    "for i in range(len(data_dict)):\n",
    "    idcg = float(data_dict[0]['score'])\n",
    "    for j in range(1,len(data_dict[i])-1):\n",
    "        idcg += (float(data_dict[0]['score']))/(log2(j+1))\n",
    "    data_dict[i]['idcg'] = idcg\n",
    "\n",
    "# print idcg from data dictionary\n",
    "# print(\"IDCG Values are:\")\n",
    "# for i in range(len(data_dict)):\n",
    "#     print(data_dict[i]['idcg'])\n",
    "\n",
    "# calculate NDCG using the score and store the NDCG in a new column in the data dictionary\n",
    "for i in range(len(data_dict)):\n",
    "    ndcg = data_dict[i]['dcg']/data_dict[i]['idcg']\n",
    "    data_dict[i]['ndcg'] = ndcg\n",
    "\n",
    "# print ndcg from data dictionary till position 50\n",
    "# print(\"NDCG Values are:\")\n",
    "# for i in range(50):\n",
    "#     print(data_dict[i]['ndcg'])"
   ]
  },
  {
   "cell_type": "code",
   "execution_count": 40,
   "metadata": {},
   "outputs": [
    {
     "name": "stdout",
     "output_type": "stream",
     "text": [
      "75 values are: \n",
      "972.826451\n",
      "612.893205\n",
      "571.500533\n",
      "538.388954\n",
      "528.520116\n",
      "463.099129\n",
      "439.396463\n",
      "411.010633\n",
      "316.319283\n",
      "311.705149\n",
      "305.102064\n",
      "296.023694\n",
      "292.184568\n",
      "270.13233\n",
      "237.21632\n",
      "237.21632\n",
      "226.444023\n",
      "217.848266\n",
      "212.401296\n",
      "202.442155\n",
      "201.720933\n",
      "200.840161\n",
      "200.840161\n",
      "198.480212\n",
      "192.953467\n",
      "188.936782\n",
      "188.129935\n",
      "187.934366\n",
      "186.375414\n",
      "185.617459\n",
      "180.720002\n",
      "180.24324\n",
      "177.168378\n",
      "176.875026\n",
      "176.000104\n",
      "169.844071\n",
      "166.683125\n",
      "161.455583\n",
      "161.455583\n",
      "161.15638\n",
      "157.05992\n",
      "156.301965\n",
      "148.415271\n",
      "148.415271\n",
      "144.564444\n",
      "143.769297\n",
      "143.445062\n",
      "142.96830\n",
      "142.589323\n",
      "142.589323\n"
     ]
    }
   ],
   "source": [
    "# sort the data dict by value in column number 75 in descending order\n",
    "data_dict_sorted_75 = sorted(data_dict, key=lambda x: float(x['75']), reverse=True)\n",
    "\n",
    "# print(\"75 values are: \")\n",
    "# for i in range(50):\n",
    "#     print(data_dict_sorted_75[i]['75'])\n",
    "\n",
    "# Calculate Precision-Recall curve of data_dict_sorted_75 based on feature 75.\n",
    "# Calculate the precision and recall values for each value of 75 and store them in lists\n",
    "precision = []\n",
    "recall = []\n",
    "for i in range(len(data_dict_sorted_75)):\n",
    "    tp = 0\n",
    "    fp = 0\n",
    "    fn = 0\n",
    "    for j in range(len(data_dict_sorted_75)):\n",
    "        if float(data_dict_sorted_75[j]['75']) >= float(data_dict_sorted_75[i]['75']):\n",
    "            if data_dict_sorted_75[j]['score'] == '4':\n",
    "                tp += 1\n",
    "            else:\n",
    "                fp += 1\n",
    "        else:\n",
    "            if data_dict_sorted_75[j]['score'] == '4':\n",
    "                fn += 1\n",
    "    precision.append(tp/(tp+fp))\n",
    "    recall.append(tp/(tp+fn))\n",
    "\n"
   ]
  },
  {
   "cell_type": "code",
   "execution_count": null,
   "metadata": {},
   "outputs": [],
   "source": []
  }
 ],
 "metadata": {
  "kernelspec": {
   "display_name": "Python 3 (ipykernel)",
   "language": "python",
   "name": "python3"
  },
  "language_info": {
   "codemirror_mode": {
    "name": "ipython",
    "version": 3
   },
   "file_extension": ".py",
   "mimetype": "text/x-python",
   "name": "python",
   "nbconvert_exporter": "python",
   "pygments_lexer": "ipython3",
   "version": "3.10.1"
  },
  "orig_nbformat": 4
 },
 "nbformat": 4,
 "nbformat_minor": 2
}
