{
 "cells": [
  {
   "cell_type": "code",
   "execution_count": 1,
   "metadata": {},
   "outputs": [],
   "source": [
    "import os"
   ]
  },
  {
   "cell_type": "code",
   "execution_count": 17,
   "metadata": {},
   "outputs": [],
   "source": [
    "os.chdir('')"
   ]
  },
  {
   "cell_type": "code",
   "execution_count": 18,
   "metadata": {},
   "outputs": [],
   "source": [
    "# add <?xml version=\"1.0\" encoding=\"UTF-8\"?> to the beginning of each file and save it\n",
    "for file in os.listdir():\n",
    "    with open(file, 'r+') as f:\n",
    "        # store the content of the file in a variable\n",
    "        data = f.read()\n",
    "        # move cursor to the beginning of the file\n",
    "        f.seek(0, 0)\n",
    "        # write the xml declaration at the beginning of the file along with data\n",
    "        f.write('<?xml version=\"1.0\" encoding=\"UTF-8\"?\\n>' + data)\n",
    "        f.close()"
   ]
  },
  {
   "cell_type": "code",
   "execution_count": null,
   "metadata": {},
   "outputs": [],
   "source": []
  }
 ],
 "metadata": {
  "kernelspec": {
   "display_name": "base",
   "language": "python",
   "name": "python3"
  },
  "language_info": {
   "codemirror_mode": {
    "name": "ipython",
    "version": 3
   },
   "file_extension": ".py",
   "mimetype": "text/x-python",
   "name": "python",
   "nbconvert_exporter": "python",
   "pygments_lexer": "ipython3",
   "version": "3.8.5"
  },
  "orig_nbformat": 4
 },
 "nbformat": 4,
 "nbformat_minor": 2
}
